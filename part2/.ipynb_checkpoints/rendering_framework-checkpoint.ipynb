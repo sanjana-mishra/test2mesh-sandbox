{
 "cells": [
  {
   "cell_type": "code",
   "execution_count": 1,
   "metadata": {
    "id": "9tK_e9BD8Fvo"
   },
   "outputs": [],
   "source": [
    "#import modules\n",
    "\n",
    "import torch\n",
    "import kaolin as kal\n",
    "import numpy as np\n",
    "from PIL import Image\n",
    "\n",
    "device = torch.device('cuda:0')"
   ]
  },
  {
   "cell_type": "code",
   "execution_count": 2,
   "metadata": {
    "id": "UUkX3nUW8OaB"
   },
   "outputs": [],
   "source": [
    "#@title get camera params from elevation, azimuth, radius\n",
    "def get_camera_from_view(elev, azim, r=3.0):\n",
    "    x = r * torch.cos(elev) * torch.cos(azim)\n",
    "    y = r * torch.sin(elev)\n",
    "    z = r * torch.cos(elev) * torch.sin(azim)\n",
    "\n",
    "    pos = torch.tensor([x, y, z]).unsqueeze(0)\n",
    "    look_at = -pos\n",
    "    direction = torch.tensor([0.0, 1.0, 0.0]).unsqueeze(0)\n",
    "\n",
    "    camera_proj = kal.render.camera.generate_transformation_matrix(pos, look_at, direction)\n",
    "    return camera_proj"
   ]
  },
  {
   "cell_type": "code",
   "execution_count": 3,
   "metadata": {
    "id": "rFWdwt-v8ZWW"
   },
   "outputs": [],
   "source": [
    "#Mesh class\n",
    "\n",
    "class Mesh:\n",
    "  def __init__(self, obj_path, is_color = True):\n",
    "     mesh = kal.io.obj.import_mesh(obj_path, with_normals = True)\n",
    "     self.vertices = mesh.vertices.to(device)\n",
    "     self.faces = mesh.faces.to(device)\n",
    "     self.vertex_normals = mesh.vertex_normals.to(device)\n",
    "     self.is_color = is_color\n",
    "     if is_color:\n",
    "       self.color_attributes = torch.zeros(self.vertices.size()[0] // 2, self.vertices.size()[1])\n",
    "     self.normalize_mesh()\n",
    "    \n",
    "  def normalize_mesh(self):\n",
    "    if self.is_color:\n",
    "      self.color_attributes = self.vertices[1::2]\n",
    "      self.vertices = self.vertices[::2]\n",
    "      \n",
    "    center = self.vertices.mean(dim = 0)\n",
    "    v = self.vertices - center\n",
    "    scale = torch.norm(v, dim = 1).max()\n",
    "    v /= scale\n",
    "    self.vertices = v"
   ]
  },
  {
   "cell_type": "code",
   "execution_count": 4,
   "metadata": {
    "id": "HCv912vP9C9h"
   },
   "outputs": [],
   "source": [
    "#Render single image from Mesh\n",
    "lights = torch.tensor([1.0, 1.0, 1.0, 0.0, 0.0, 0.0, 0.0, 0.0, 0.0]).to(device)\n",
    "camera_projection =kal.render.camera.generate_perspective_projection(np.pi / 3).to(device)\n",
    "dim = (224, 224)\n",
    "def render_single_view(mesh, elev=0, azim=0, show=False, lighting=True, background=None, radius=2,\n",
    "                        return_mask=False):\n",
    "    # if mesh is None:\n",
    "    #     mesh = self._current_mesh\n",
    "    verts = mesh.vertices\n",
    "    faces = mesh.faces\n",
    "    n_faces = faces.shape[0]\n",
    "    \n",
    "    if not mesh.is_color:\n",
    "        face_attributes = torch.ones(1, n_faces, 3, 3).to(device) * 0.5\n",
    "    else:\n",
    "        face_attributes = kal.ops.mesh.index_vertices_by_faces(mesh.color_attributes.unsqueeze(0).to(device), mesh.faces.to(device))\n",
    "\n",
    "    camera_transform = get_camera_from_view(torch.tensor(elev), torch.tensor(azim), r=radius).to(device)\n",
    "    face_vertices_camera, face_vertices_image, face_normals = kal.render.mesh.prepare_vertices(\n",
    "        mesh.vertices.to(device), mesh.faces.to(device), camera_projection, camera_transform=camera_transform)\n",
    "\n",
    "    image_features, soft_mask, face_idx = kal.render.mesh.dibr_rasterization(\n",
    "        dim[1], dim[0], face_vertices_camera[:, :, :, -1],\n",
    "        face_vertices_image, face_attributes, face_normals[:, :, -1])\n",
    "\n",
    "\n",
    "    image = torch.clamp(image_features, 0.0, 1.0)\n",
    "    if lighting:\n",
    "        image_normals = face_normals[:, face_idx].squeeze(0)\n",
    "        image_lighting = kal.render.mesh.spherical_harmonic_lighting(image_normals, lights).unsqueeze(0)\n",
    "        image = image * image_lighting.repeat(1, 3, 1, 1).permute(0, 2, 3, 1).to(device)\n",
    "        image = torch.clamp(image, 0.0, 1.0)\n",
    "\n",
    "    return image"
   ]
  },
  {
   "cell_type": "code",
   "execution_count": 5,
   "metadata": {
    "colab": {
     "base_uri": "https://localhost:8080/",
     "height": 241
    },
    "id": "JfeUZb94-PHq",
    "outputId": "df5e24d3-8436-4d69-ac19-5758386087f0"
   },
   "outputs": [
    {
     "data": {
      "image/png": "[encoded data removed]",
      "text/plain": [
       "<PIL.Image.Image image mode=RGB size=224x224>"
      ]
     },
     "execution_count": 5,
     "metadata": {},
     "output_type": "execute_result"
    }
   ],
   "source": [
    "mesh = Mesh('./vase.obj', is_color=False)\n",
    "image = render_single_view(mesh, elev = np.pi / 3)\n",
    "\n",
    "Image.fromarray((image.squeeze(0).cpu().numpy() * 255.).astype('uint8'))"
   ]
  },
  {
   "cell_type": "code",
   "execution_count": 6,
   "metadata": {},
   "outputs": [
    {
     "name": "stdout",
     "output_type": "stream",
     "text": [
      "Requirement already satisfied: opencv-python in c:\\users\\sanja\\anaconda3\\envs\\text2mesh\\lib\\site-packages (4.7.0.72)\n",
      "Requirement already satisfied: numpy>=1.19.3 in c:\\users\\sanja\\anaconda3\\envs\\text2mesh\\lib\\site-packages (from opencv-python) (1.22.4)\n"
     ]
    }
   ],
   "source": [
    "!pip install opencv-python"
   ]
  },
  {
   "cell_type": "code",
   "execution_count": 7,
   "metadata": {
    "colab": {
     "base_uri": "https://localhost:8080/"
    },
    "id": "6RQ8NpqGX32h",
    "outputId": "90c021bc-03e2-44d0-f8f6-94c9c7d87147"
   },
   "outputs": [
    {
     "name": "stderr",
     "output_type": "stream",
     "text": [
      "C:\\Users\\sanja\\AppData\\Local\\Temp\\ipykernel_14696\\4176830269.py:13: DeprecationWarning: `np.float` is a deprecated alias for the builtin `float`. To silence this warning, use `float` by itself. Doing this will not modify any behavior and is safe. If you specifically wanted the numpy scalar type, use `np.float64` here.\n",
      "Deprecated in NumPy 1.20; for more details and guidance: https://numpy.org/devdocs/release/1.20.0-notes.html#deprecations\n",
      "  frame = render_single_view(mesh, elev = np.pi / 3, azim = np.float(azim))\n"
     ]
    }
   ],
   "source": [
    "# # Part 1 \n",
    "# # To Render multiple images/views and combine to form a video\n",
    "import cv2\n",
    "import os\n",
    "\n",
    "# Loop over different azimuth values to get multiple views\n",
    "# Azimuth Range 0-360 degrees or 0-2pi radians\n",
    "azimuths = np.linspace(0, 2 * np.pi, num=100)\n",
    "\n",
    "# Now loop over them\n",
    "frames = []\n",
    "for azim in azimuths:\n",
    "  frame = render_single_view(mesh, elev = np.pi / 3, azim = np.float(azim))\n",
    "  frame = Image.fromarray((frame.squeeze(0).cpu().numpy() * 255.).astype('uint8'))\n",
    "  frame = np.array(frame) \n",
    "  # Convert RGB to BGR \n",
    "  frame = frame[:, :, ::-1].copy() \n",
    "  frames.append(frame)\n",
    "\n",
    "# Now convert frames array to video using openCV\n",
    "height, width, layers = frames[0].shape\n",
    "\n",
    "fourcc = cv2.VideoWriter_fourcc(*'mp4v')\n",
    "video = cv2.VideoWriter(\"vase.mp4\", fourcc, 30, (width, height))\n",
    "\n",
    "for frame in frames:\n",
    "    video.write(frame)\n",
    "\n",
    "video.release()\n",
    "\n",
    "# import imageio\n",
    "\n",
    "# mesh = Mesh('vase.obj')\n",
    "# azim_list = np.arange(0,2*np.pi, 0.01, dtype=np.float32)\n",
    "# video = imageio.get_writer('camera_view.mp4', mode='I', fps=60, codec='libx264', bitrate='16M')\n",
    "# for azim in azim_list:\n",
    "#     image = render_single_view(mesh, elev = np.pi / 3, azim = azim)\n",
    "#     video.append_data((image.squeeze(0).cpu().numpy() * 255.).astype('uint8'))\n",
    "# video.close()\n",
    "\n"
   ]
  },
  {
   "cell_type": "code",
   "execution_count": 8,
   "metadata": {
    "colab": {
     "base_uri": "https://localhost:8080/"
    },
    "id": "c6fq2gAU0OMI",
    "outputId": "a2481281-125a-4369-a531-eb38a519da16"
   },
   "outputs": [
    {
     "name": "stdout",
     "output_type": "stream",
     "text": [
      "reached\n"
     ]
    }
   ],
   "source": [
    "# Part 2 and 3\n",
    "# To Render multiple images/views and combine to form a video\n",
    "import cv2\n",
    "import os\n",
    "import pathlib\n",
    "cur_dir = pathlib.Path().resolve()\n",
    "\n",
    "# Loop over different azimuth values to get multiple views\n",
    "# Azimuth Range 0-360 degrees or 0-2pi radians\n",
    "azimuths = np.linspace(0, 2 * np.pi, num=100)\n",
    "\n",
    "meshes = [mesh_name for mesh_name in os.listdir(cur_dir) if mesh_name.split(\".\")[-1] == \"obj\"]\n",
    "\n",
    "for mesh in meshes:\n",
    "  video_name = mesh.split(\".\")[0]\n",
    "  if video_name == \"vase\":\n",
    "      mesh = Mesh(mesh, is_color=False)\n",
    "      print(\"reached\")\n",
    "  else:\n",
    "      mesh = Mesh(mesh, is_color=True)\n",
    "  # Now loop over them\n",
    "  frames = []\n",
    "  for azim in azimuths:\n",
    "    frame = render_single_view(mesh, elev = 0, azim = float(azim))\n",
    "    frame = Image.fromarray((frame.squeeze(0).cpu().numpy() * 255.).astype('uint8'))\n",
    "    frame = np.array(frame) \n",
    "    # Convert RGB to BGR \n",
    "    frame = frame[:, :, ::-1].copy() \n",
    "    frames.append(frame)\n",
    "\n",
    "  # Now convert frames array to video using openCV\n",
    "  height, width, layers = frames[0].shape\n",
    "\n",
    "  fourcc = cv2.VideoWriter_fourcc(*'mp4v')\n",
    "  video = cv2.VideoWriter(video_name + \"elev_0.mp4\", fourcc, 30, (width, height))\n",
    "\n",
    "  for frame in frames:\n",
    "      video.write(frame)\n",
    "\n",
    "  video.release()"
   ]
  }
 ],
 "metadata": {
  "accelerator": "GPU",
  "colab": {
   "provenance": []
  },
  "gpuClass": "standard",
  "kernelspec": {
   "display_name": "Python 3 (ipykernel)",
   "language": "python",
   "name": "python3"
  },
  "language_info": {
   "codemirror_mode": {
    "name": "ipython",
    "version": 3
   },
   "file_extension": ".py",
   "mimetype": "text/x-python",
   "name": "python",
   "nbconvert_exporter": "python",
   "pygments_lexer": "ipython3",
   "version": "3.9.16"
  }
 },
 "nbformat": 4,
 "nbformat_minor": 1
}
