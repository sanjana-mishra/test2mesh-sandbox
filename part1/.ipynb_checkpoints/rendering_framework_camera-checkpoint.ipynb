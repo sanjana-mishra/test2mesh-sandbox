{
 "cells": [
  {
   "cell_type": "code",
   "execution_count": 1,
   "metadata": {
    "colab": {
     "base_uri": "https://localhost:8080/"
    },
    "id": "NkSad-rU7rdv",
    "outputId": "a6c02d88-6098-461e-f359-446ea20db1b8"
   },
   "outputs": [
    {
     "name": "stdout",
     "output_type": "stream",
     "text": [
      "Looking in links: https://nvidia-kaolin.s3.us-east-2.amazonaws.com/torch-1.13.1_cu113.html\n",
      "Requirement already satisfied: kaolin==0.13.0 in c:\\users\\sanja\\anaconda3\\envs\\text2mesh\\lib\\site-packages (0.13.0)\n",
      "Requirement already satisfied: tornado==6.1 in c:\\users\\sanja\\anaconda3\\envs\\text2mesh\\lib\\site-packages (from kaolin==0.13.0) (6.1)\n",
      "Requirement already satisfied: flask==2.0.3 in c:\\users\\sanja\\anaconda3\\envs\\text2mesh\\lib\\site-packages (from kaolin==0.13.0) (2.0.3)\n",
      "Requirement already satisfied: Pillow>=8.0.0 in c:\\users\\sanja\\anaconda3\\envs\\text2mesh\\lib\\site-packages (from kaolin==0.13.0) (9.4.0)\n",
      "Requirement already satisfied: scipy>=1.2.0 in c:\\users\\sanja\\anaconda3\\envs\\text2mesh\\lib\\site-packages (from kaolin==0.13.0) (1.7.2)\n",
      "Requirement already satisfied: tqdm>=4.51.0 in c:\\users\\sanja\\anaconda3\\envs\\text2mesh\\lib\\site-packages (from kaolin==0.13.0) (4.65.0)\n",
      "Requirement already satisfied: usd-core<22.8 in c:\\users\\sanja\\anaconda3\\envs\\text2mesh\\lib\\site-packages (from kaolin==0.13.0) (22.5.post1)\n",
      "Requirement already satisfied: itsdangerous>=2.0 in c:\\users\\sanja\\anaconda3\\envs\\text2mesh\\lib\\site-packages (from flask==2.0.3->kaolin==0.13.0) (2.1.2)\n",
      "Requirement already satisfied: Werkzeug>=2.0 in c:\\users\\sanja\\anaconda3\\envs\\text2mesh\\lib\\site-packages (from flask==2.0.3->kaolin==0.13.0) (2.2.3)\n",
      "Requirement already satisfied: click>=7.1.2 in c:\\users\\sanja\\anaconda3\\envs\\text2mesh\\lib\\site-packages (from flask==2.0.3->kaolin==0.13.0) (8.1.3)\n",
      "Requirement already satisfied: Jinja2>=3.0 in c:\\users\\sanja\\anaconda3\\envs\\text2mesh\\lib\\site-packages (from flask==2.0.3->kaolin==0.13.0) (3.1.2)\n",
      "Requirement already satisfied: colorama in c:\\users\\sanja\\appdata\\roaming\\python\\python39\\site-packages (from click>=7.1.2->flask==2.0.3->kaolin==0.13.0) (0.4.4)\n",
      "Requirement already satisfied: MarkupSafe>=2.0 in c:\\users\\sanja\\anaconda3\\envs\\text2mesh\\lib\\site-packages (from Jinja2>=3.0->flask==2.0.3->kaolin==0.13.0) (2.1.2)\n",
      "Requirement already satisfied: numpy<1.23.0,>=1.16.5 in c:\\users\\sanja\\anaconda3\\envs\\text2mesh\\lib\\site-packages (from scipy>=1.2.0->kaolin==0.13.0) (1.22.4)\n"
     ]
    }
   ],
   "source": [
    "#@title Install Kaolin\n",
    "\n",
    "!pip install kaolin==0.13.0 -f https://nvidia-kaolin.s3.us-east-2.amazonaws.com/torch-1.13.1_cu113.html"
   ]
  },
  {
   "cell_type": "code",
   "execution_count": 2,
   "metadata": {},
   "outputs": [
    {
     "name": "stdout",
     "output_type": "stream",
     "text": [
      "Requirement already satisfied: numpy in c:\\users\\sanja\\anaconda3\\lib\\site-packages (1.23.5)\n",
      "Collecting numpy\n",
      "  Using cached numpy-1.24.2-cp39-cp39-win_amd64.whl (14.9 MB)\n",
      "Installing collected packages: numpy\n",
      "  Attempting uninstall: numpy\n",
      "    Found existing installation: numpy 1.23.5\n",
      "    Uninstalling numpy-1.23.5:\n",
      "      Successfully uninstalled numpy-1.23.5\n",
      "Successfully installed numpy-1.24.2\n"
     ]
    },
    {
     "name": "stderr",
     "output_type": "stream",
     "text": [
      "WARNING: Ignoring invalid distribution -orch (c:\\users\\sanja\\anaconda3\\lib\\site-packages)\n",
      "WARNING: Ignoring invalid distribution -orch (c:\\users\\sanja\\anaconda3\\lib\\site-packages)\n",
      "WARNING: Ignoring invalid distribution -orch (c:\\users\\sanja\\anaconda3\\lib\\site-packages)\n",
      "    WARNING: Ignoring invalid distribution -orch (c:\\users\\sanja\\anaconda3\\lib\\site-packages)\n",
      "WARNING: Ignoring invalid distribution -orch (c:\\users\\sanja\\anaconda3\\lib\\site-packages)\n",
      "ERROR: pip's dependency resolver does not currently take into account all the packages that are installed. This behaviour is the source of the following dependency conflicts.\n",
      "gensim 4.3.0 requires FuzzyTM>=0.4.0, which is not installed.\n",
      "daal4py 2021.6.0 requires daal==2021.4.0, which is not installed.\n",
      "numba 0.56.4 requires numpy<1.24,>=1.18, but you have numpy 1.24.2 which is incompatible.\n",
      "WARNING: Ignoring invalid distribution -orch (c:\\users\\sanja\\anaconda3\\lib\\site-packages)\n",
      "WARNING: Ignoring invalid distribution -orch (c:\\users\\sanja\\anaconda3\\lib\\site-packages)\n",
      "WARNING: Ignoring invalid distribution -orch (c:\\users\\sanja\\anaconda3\\lib\\site-packages)\n"
     ]
    }
   ],
   "source": [
    "!pip install --upgrade numpy"
   ]
  },
  {
   "cell_type": "code",
   "execution_count": 2,
   "metadata": {
    "colab": {
     "base_uri": "https://localhost:8080/",
     "height": 519
    },
    "id": "9tK_e9BD8Fvo",
    "outputId": "c7b3a777-95b5-4035-fecc-78bd9991c5ac"
   },
   "outputs": [],
   "source": [
    "#import modules\n",
    "\n",
    "import torch\n",
    "import kaolin as kal\n",
    "import numpy as np\n",
    "from PIL import Image\n",
    "\n",
    "device = torch.device('cuda:0')"
   ]
  },
  {
   "cell_type": "code",
   "execution_count": 3,
   "metadata": {
    "id": "UUkX3nUW8OaB"
   },
   "outputs": [],
   "source": [
    "#@title get camera params from elevation, azimuth, radius\n",
    "def get_camera_from_view(elev, azim, r=3.0):\n",
    "    x = r * torch.cos(elev) * torch.cos(azim)\n",
    "    y = r * torch.sin(elev)\n",
    "    z = r * torch.cos(elev) * torch.sin(azim)\n",
    "\n",
    "    pos = torch.tensor([x, y, z]).unsqueeze(0)\n",
    "    look_at = -pos\n",
    "    direction = torch.tensor([0.0, 1.0, 0.0]).unsqueeze(0)\n",
    "\n",
    "    camera_proj = kal.render.camera.generate_transformation_matrix(pos, look_at, direction)\n",
    "    return camera_proj"
   ]
  },
  {
   "cell_type": "code",
   "execution_count": 4,
   "metadata": {
    "id": "rFWdwt-v8ZWW"
   },
   "outputs": [],
   "source": [
    "#Mesh class\n",
    "\n",
    "class Mesh:\n",
    "  def __init__(self, obj_path):\n",
    "     mesh = kal.io.obj.import_mesh(obj_path, with_normals = True)\n",
    "     self.vertices = mesh.vertices.to(device)\n",
    "     self.faces = mesh.faces.to(device)\n",
    "     self.vertex_normals = mesh.vertex_normals.to(device)\n",
    "     self.normalize_mesh()\n",
    "    \n",
    "  def normalize_mesh(self):\n",
    "    center = self.vertices.mean(dim = 0)\n",
    "    v = self.vertices - center\n",
    "    scale = torch.norm(v, dim = 1).max()\n",
    "    v /= scale\n",
    "    self.vertices = v\n",
    "     "
   ]
  },
  {
   "cell_type": "code",
   "execution_count": 6,
   "metadata": {
    "id": "HCv912vP9C9h"
   },
   "outputs": [],
   "source": [
    "#Render single image from Mesh\n",
    "lights = torch.tensor([1.0, 1.0, 1.0, 0.0, 0.0, 0.0, 0.0, 0.0, 0.0]).to(device)\n",
    "camera_projection =kal.render.camera.generate_perspective_projection(np.pi / 3).to(device)\n",
    "dim = (224, 224)\n",
    "def render_single_view(mesh, elev=0, azim=0, show=False, lighting=True, background=None, radius=2,\n",
    "                        return_mask=False):\n",
    "    # if mesh is None:\n",
    "    #     mesh = self._current_mesh\n",
    "    verts = mesh.vertices\n",
    "    faces = mesh.faces\n",
    "    n_faces = faces.shape[0]\n",
    "\n",
    "    face_attributes = torch.ones(1, n_faces, 3, 3).to(device) * 0.5\n",
    "\n",
    "\n",
    "    camera_transform = get_camera_from_view(torch.tensor(elev), torch.tensor(azim), r=radius).to(device)\n",
    "    face_vertices_camera, face_vertices_image, face_normals = kal.render.mesh.prepare_vertices(\n",
    "        mesh.vertices.to(device), mesh.faces.to(device), camera_projection, camera_transform=camera_transform)\n",
    "\n",
    "    image_features, soft_mask, face_idx = kal.render.mesh.dibr_rasterization(\n",
    "        dim[1], dim[0], face_vertices_camera[:, :, :, -1],\n",
    "        face_vertices_image, face_attributes, face_normals[:, :, -1])\n",
    "\n",
    "\n",
    "    image = torch.clamp(image_features, 0.0, 1.0)\n",
    "    if lighting:\n",
    "        image_normals = face_normals[:, face_idx].squeeze(0)\n",
    "        image_lighting = kal.render.mesh.spherical_harmonic_lighting(image_normals, lights).unsqueeze(0)\n",
    "        image = image * image_lighting.repeat(1, 3, 1, 1).permute(0, 2, 3, 1).to(device)\n",
    "        image = torch.clamp(image, 0.0, 1.0)\n",
    "\n",
    "    return image"
   ]
  },
  {
   "cell_type": "code",
   "execution_count": 7,
   "metadata": {
    "colab": {
     "base_uri": "https://localhost:8080/",
     "height": 241
    },
    "id": "JfeUZb94-PHq",
    "outputId": "0c657ddc-22d7-4a55-f863-4ec68f9381d7"
   },
   "outputs": [
    {
     "data": {
      "image/png": "[encoded data removed]",
      "text/plain": [
       "<PIL.Image.Image image mode=RGB size=224x224>"
      ]
     },
     "execution_count": 7,
     "metadata": {},
     "output_type": "execute_result"
    }
   ],
   "source": [
    "mesh = Mesh('vase.obj')\n",
    "image = render_single_view(mesh, elev = np.pi / 3, azim = np.pi/3)\n",
    "#image1 = render_single_view(mesh, elev = np.pi / 3, azim = np.pi/2)\n",
    "\n",
    "Image.fromarray((image.squeeze(0).cpu().numpy() * 255.).astype('uint8'))\n",
    "#Image.fromarray((image1.squeeze(0).cpu().numpy() * 255.).astype('uint8'))\n",
    "     \n"
   ]
  },
  {
   "cell_type": "code",
   "execution_count": 8,
   "metadata": {},
   "outputs": [
    {
     "name": "stdout",
     "output_type": "stream",
     "text": [
      "Requirement already satisfied: imageio[ffmpeg] in c:\\users\\sanja\\anaconda3\\envs\\text2mesh\\lib\\site-packages (2.27.0)\n",
      "Requirement already satisfied: numpy in c:\\users\\sanja\\anaconda3\\envs\\text2mesh\\lib\\site-packages (from imageio[ffmpeg]) (1.22.4)\n",
      "Requirement already satisfied: pillow>=8.3.2 in c:\\users\\sanja\\anaconda3\\envs\\text2mesh\\lib\\site-packages (from imageio[ffmpeg]) (9.4.0)\n",
      "Requirement already satisfied: psutil in c:\\users\\sanja\\anaconda3\\envs\\text2mesh\\lib\\site-packages (from imageio[ffmpeg]) (5.9.4)\n",
      "Requirement already satisfied: imageio-ffmpeg in c:\\users\\sanja\\anaconda3\\envs\\text2mesh\\lib\\site-packages (from imageio[ffmpeg]) (0.4.8)\n",
      "Requirement already satisfied: imageio[pyav] in c:\\users\\sanja\\anaconda3\\envs\\text2mesh\\lib\\site-packages (2.27.0)\n",
      "Requirement already satisfied: pillow>=8.3.2 in c:\\users\\sanja\\anaconda3\\envs\\text2mesh\\lib\\site-packages (from imageio[pyav]) (9.4.0)\n",
      "Requirement already satisfied: numpy in c:\\users\\sanja\\anaconda3\\envs\\text2mesh\\lib\\site-packages (from imageio[pyav]) (1.22.4)\n",
      "Requirement already satisfied: av in c:\\users\\sanja\\anaconda3\\envs\\text2mesh\\lib\\site-packages (from imageio[pyav]) (10.0.0)\n"
     ]
    }
   ],
   "source": [
    "!pip install imageio[ffmpeg]\n",
    "!pip install imageio[pyav]"
   ]
  },
  {
   "cell_type": "code",
   "execution_count": null,
   "metadata": {},
   "outputs": [],
   "source": [
    "import imageio\n",
    "\n",
    "mesh = Mesh('vase.obj')\n",
    "azim_list = np.arange(0,2*np.pi, 0.01, dtype=np.float32)\n",
    "video = imageio.get_writer('camera_view.mp4', mode='I', fps=60, codec='libx264', bitrate='16M')\n",
    "for azim in azim_list:\n",
    "    image = render_single_view(mesh, elev = np.pi / 3, azim = azim)\n",
    "    video.append_data((image.squeeze(0).cpu().numpy() * 255.).astype('uint8'))\n",
    "video.close()"
   ]
  }
 ],
 "metadata": {
  "accelerator": "GPU",
  "colab": {
   "provenance": []
  },
  "gpuClass": "standard",
  "kernelspec": {
   "display_name": "Python 3 (ipykernel)",
   "language": "python",
   "name": "python3"
  },
  "language_info": {
   "codemirror_mode": {
    "name": "ipython",
    "version": 3
   },
   "file_extension": ".py",
   "mimetype": "text/x-python",
   "name": "python",
   "nbconvert_exporter": "python",
   "pygments_lexer": "ipython3",
   "version": "3.9.16"
  }
 },
 "nbformat": 4,
 "nbformat_minor": 1
}
